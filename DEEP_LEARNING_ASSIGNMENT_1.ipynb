{
  "cells": [
    {
      "cell_type": "markdown",
      "metadata": {
        "id": "view-in-github",
        "colab_type": "text"
      },
      "source": [
        "<a href=\"https://colab.research.google.com/github/JEEVA-JOSLIN/DEEP-LEARNING-ASSIGNMENT/blob/main/DEEP_LEARNING_ASSIGNMENT_1.ipynb\" target=\"_parent\"><img src=\"https://colab.research.google.com/assets/colab-badge.svg\" alt=\"Open In Colab\"/></a>"
      ]
    },
    {
      "cell_type": "code",
      "execution_count": null,
      "metadata": {
        "id": "sjk2bOJ86eAW"
      },
      "outputs": [],
      "source": [
        "import numpy as np\n",
        "import tensorflow as tf\n",
        "from tensorflow.keras import layers, models\n",
        "from tensorflow.keras.datasets import mnist\n",
        "from tensorflow.keras.utils import to_categorical"
      ]
    },
    {
      "cell_type": "code",
      "execution_count": null,
      "metadata": {
        "colab": {
          "base_uri": "https://localhost:8080/"
        },
        "id": "-Et4wafl6oFi",
        "outputId": "d19a39e7-9c16-48cc-bb14-316461217db7"
      },
      "outputs": [
        {
          "name": "stdout",
          "output_type": "stream",
          "text": [
            "Downloading data from https://storage.googleapis.com/tensorflow/tf-keras-datasets/mnist.npz\n",
            "11490434/11490434 [==============================] - 0s 0us/step\n"
          ]
        }
      ],
      "source": [
        "(x_train, y_train), (x_test, y_test) = mnist.load_data()\n",
        "x_train = x_train.reshape((x_train.shape[0], 28, 28, 1)).astype('float32') / 255\n",
        "x_test = x_test.reshape((x_test.shape[0], 28, 28, 1)).astype('float32') / 255\n",
        "y_train = to_categorical(y_train)\n",
        "y_test = to_categorical(y_test)"
      ]
    },
    {
      "cell_type": "code",
      "execution_count": null,
      "metadata": {
        "id": "Wxh8MQ_J6oIB"
      },
      "outputs": [],
      "source": [
        "def create_model():\n",
        "    model = models.Sequential([\n",
        "        layers.Conv2D(32, (3, 3), activation='relu', input_shape=(28, 28, 1)),\n",
        "        layers.MaxPooling2D((2, 2)),\n",
        "        layers.Conv2D(64, (3, 3), activation='relu'),\n",
        "        layers.MaxPooling2D((2, 2)),\n",
        "        layers.Conv2D(64, (3, 3), activation='relu'),\n",
        "        layers.Flatten(),\n",
        "        layers.Dense(64, activation='relu'),\n",
        "        layers.Dense(10, activation='softmax')\n",
        "    ])\n",
        "    return model"
      ]
    },
    {
      "cell_type": "code",
      "execution_count": null,
      "metadata": {
        "id": "ccr-QC1j6oKc"
      },
      "outputs": [],
      "source": [
        "def train_model(model, x_train, y_train, x_test, y_test, batch_size, epochs, learning_rate):\n",
        "    optimizer = tf.keras.optimizers.Adam(learning_rate=learning_rate)\n",
        "    model.compile(optimizer=optimizer,\n",
        "                  loss='categorical_crossentropy',\n",
        "                  metrics=['accuracy'])\n",
        "    history = model.fit(x_train, y_train, batch_size=batch_size, epochs=epochs,\n",
        "                        validation_data=(x_test, y_test), verbose=1)\n",
        "    return history"
      ]
    },
    {
      "cell_type": "code",
      "execution_count": null,
      "metadata": {
        "id": "l7J_9Mhy6oM1"
      },
      "outputs": [],
      "source": [
        "batch_size = 64\n",
        "epochs = 10\n",
        "learning_rate = 0.001"
      ]
    },
    {
      "cell_type": "code",
      "execution_count": null,
      "metadata": {
        "colab": {
          "background_save": true,
          "base_uri": "https://localhost:8080/"
        },
        "id": "EZ43kEBF6oPG",
        "outputId": "e3deabda-92b0-45b8-d876-ec7f1a1fc951"
      },
      "outputs": [
        {
          "name": "stdout",
          "output_type": "stream",
          "text": [
            "Epoch 1/10\n",
            "938/938 [==============================] - 51s 53ms/step - loss: 0.1811 - accuracy: 0.9432 - val_loss: 0.0587 - val_accuracy: 0.9829\n",
            "Epoch 2/10\n",
            "938/938 [==============================] - 44s 47ms/step - loss: 0.0497 - accuracy: 0.9847 - val_loss: 0.0406 - val_accuracy: 0.9867\n",
            "Epoch 3/10\n",
            "938/938 [==============================] - 46s 49ms/step - loss: 0.0355 - accuracy: 0.9886 - val_loss: 0.0351 - val_accuracy: 0.9885\n",
            "Epoch 4/10\n",
            "938/938 [==============================] - 45s 48ms/step - loss: 0.0281 - accuracy: 0.9911 - val_loss: 0.0377 - val_accuracy: 0.9880\n",
            "Epoch 5/10\n",
            "938/938 [==============================] - 45s 47ms/step - loss: 0.0215 - accuracy: 0.9931 - val_loss: 0.0297 - val_accuracy: 0.9911\n",
            "Epoch 6/10\n",
            "938/938 [==============================] - 45s 48ms/step - loss: 0.0184 - accuracy: 0.9941 - val_loss: 0.0298 - val_accuracy: 0.9908\n",
            "Epoch 7/10\n",
            "938/938 [==============================] - 44s 47ms/step - loss: 0.0138 - accuracy: 0.9957 - val_loss: 0.0293 - val_accuracy: 0.9914\n",
            "Epoch 8/10\n",
            "938/938 [==============================] - 45s 48ms/step - loss: 0.0130 - accuracy: 0.9959 - val_loss: 0.0305 - val_accuracy: 0.9911\n",
            "Epoch 9/10\n",
            "938/938 [==============================] - 45s 48ms/step - loss: 0.0099 - accuracy: 0.9971 - val_loss: 0.0288 - val_accuracy: 0.9914\n",
            "Epoch 10/10\n",
            "938/938 [==============================] - 44s 47ms/step - loss: 0.0104 - accuracy: 0.9968 - val_loss: 0.0385 - val_accuracy: 0.9895\n"
          ]
        }
      ],
      "source": [
        "model = create_model()\n",
        "history = train_model(model, x_train, y_train, x_test, y_test, batch_size, epochs, learning_rate)\n"
      ]
    },
    {
      "cell_type": "code",
      "execution_count": null,
      "metadata": {
        "id": "F7jX_9Um6oRY",
        "outputId": "1857542d-f9fa-4a44-96c6-e32e4884c9ea",
        "colab": {
          "base_uri": "https://localhost:8080/"
        }
      },
      "outputs": [
        {
          "output_type": "stream",
          "name": "stdout",
          "text": [
            "313/313 [==============================] - 2s 6ms/step - loss: 0.0385 - accuracy: 0.9895\n",
            "Test accuracy: 0.9894999861717224\n"
          ]
        }
      ],
      "source": [
        "test_loss, test_acc = model.evaluate(x_test, y_test)\n",
        "print(f'Test accuracy: {test_acc}')"
      ]
    },
    {
      "cell_type": "code",
      "execution_count": null,
      "metadata": {
        "id": "pgOdQ61u6oU3",
        "outputId": "5877b55c-b49f-490b-a89f-9dd095a423d1",
        "colab": {
          "base_uri": "https://localhost:8080/",
          "height": 449
        }
      },
      "outputs": [
        {
          "output_type": "display_data",
          "data": {
            "text/plain": [
              "<Figure size 640x480 with 1 Axes>"
            ],
            "image/png": "[encoded data removed]"
          },
          "metadata": {}
        }
      ],
      "source": [
        "import matplotlib.pyplot as plt\n",
        "\n",
        "plt.plot(history.history['accuracy'], label='accuracy')\n",
        "plt.plot(history.history['val_accuracy'], label='val_accuracy')\n",
        "plt.xlabel('Epoch')\n",
        "plt.ylabel('Accuracy')\n",
        "plt.legend()\n",
        "plt.show()"
      ]
    },
    {
      "cell_type": "code",
      "execution_count": null,
      "metadata": {
        "id": "eOlZkkeW6-KE"
      },
      "outputs": [],
      "source": []
    }
  ],
  "metadata": {
    "colab": {
      "provenance": [],
      "authorship_tag": "ABX9TyMH1kjA3i8PuGGqsGebzPD5",
      "include_colab_link": true
    },
    "kernelspec": {
      "display_name": "Python 3",
      "name": "python3"
    },
    "language_info": {
      "name": "python"
    }
  },
  "nbformat": 4,
  "nbformat_minor": 0
}